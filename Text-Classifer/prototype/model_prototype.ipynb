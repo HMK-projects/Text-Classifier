{
 "cells": [
  {
   "cell_type": "markdown",
   "id": "5f6cd380",
   "metadata": {},
   "source": [
    "# Model Prototype"
   ]
  },
  {
   "cell_type": "markdown",
   "id": "1c43ff27",
   "metadata": {},
   "source": [
    "## Imports"
   ]
  },
  {
   "cell_type": "code",
   "execution_count": 10,
   "id": "443d96ed",
   "metadata": {},
   "outputs": [
    {
     "name": "stdout",
     "output_type": "stream",
     "text": [
      "Version:  2.4.1\n",
      "GPU is  available\n"
     ]
    }
   ],
   "source": [
    "import os\n",
    "import re\n",
    "\n",
    "import numpy as np\n",
    "import pandas as pd\n",
    "\n",
    "from sklearn.model_selection import train_test_split\n",
    "\n",
    "import tensorflow as tf\n",
    "from tensorflow.keras.layers.experimental.preprocessing import TextVectorization\n",
    "from tensorflow.keras.layers import Embedding\n",
    "from tensorflow.keras import layers\n",
    "\n",
    "print(\"Version: \", tf.__version__)\n",
    "print(\"GPU is \",\"available\" if tf.config.list_physical_devices(\"GPU\") else \"NOT AVAILABLE\")"
   ]
  },
  {
   "cell_type": "markdown",
   "id": "99cb4893",
   "metadata": {},
   "source": [
    "## Data Ingestion"
   ]
  },
  {
   "cell_type": "code",
   "execution_count": 11,
   "id": "d98cf169",
   "metadata": {},
   "outputs": [
    {
     "name": "stdout",
     "output_type": "stream",
     "text": [
      "/text-classifier/Text-Classifer\n",
      "/text-classifier/Text-Classifer/ml/data/data.csv\n"
     ]
    }
   ],
   "source": [
    "parent_dir = os.path.dirname(os.getcwd())\n",
    "print(parent_dir)\n",
    "CSV_dir = os.path.join(parent_dir, 'ml/data/data.csv')\n",
    "print(CSV_dir)"
   ]
  },
  {
   "cell_type": "code",
   "execution_count": 12,
   "id": "670d87df",
   "metadata": {},
   "outputs": [
    {
     "data": {
      "text/html": [
       "<div>\n",
       "<style scoped>\n",
       "    .dataframe tbody tr th:only-of-type {\n",
       "        vertical-align: middle;\n",
       "    }\n",
       "\n",
       "    .dataframe tbody tr th {\n",
       "        vertical-align: top;\n",
       "    }\n",
       "\n",
       "    .dataframe thead th {\n",
       "        text-align: right;\n",
       "    }\n",
       "</style>\n",
       "<table border=\"1\" class=\"dataframe\">\n",
       "  <thead>\n",
       "    <tr style=\"text-align: right;\">\n",
       "      <th></th>\n",
       "      <th>review</th>\n",
       "      <th>sentiment</th>\n",
       "    </tr>\n",
       "  </thead>\n",
       "  <tbody>\n",
       "    <tr>\n",
       "      <th>0</th>\n",
       "      <td>One of the other reviewers has mentioned that ...</td>\n",
       "      <td>1</td>\n",
       "    </tr>\n",
       "    <tr>\n",
       "      <th>1</th>\n",
       "      <td>A wonderful little production. &lt;br /&gt;&lt;br /&gt;The...</td>\n",
       "      <td>1</td>\n",
       "    </tr>\n",
       "    <tr>\n",
       "      <th>2</th>\n",
       "      <td>I thought this was a wonderful way to spend ti...</td>\n",
       "      <td>1</td>\n",
       "    </tr>\n",
       "    <tr>\n",
       "      <th>3</th>\n",
       "      <td>Basically there's a family where a little boy ...</td>\n",
       "      <td>0</td>\n",
       "    </tr>\n",
       "    <tr>\n",
       "      <th>4</th>\n",
       "      <td>Petter Mattei's \"Love in the Time of Money\" is...</td>\n",
       "      <td>1</td>\n",
       "    </tr>\n",
       "    <tr>\n",
       "      <th>...</th>\n",
       "      <td>...</td>\n",
       "      <td>...</td>\n",
       "    </tr>\n",
       "    <tr>\n",
       "      <th>49995</th>\n",
       "      <td>I thought this movie did a down right good job...</td>\n",
       "      <td>1</td>\n",
       "    </tr>\n",
       "    <tr>\n",
       "      <th>49996</th>\n",
       "      <td>Bad plot, bad dialogue, bad acting, idiotic di...</td>\n",
       "      <td>0</td>\n",
       "    </tr>\n",
       "    <tr>\n",
       "      <th>49997</th>\n",
       "      <td>I am a Catholic taught in parochial elementary...</td>\n",
       "      <td>0</td>\n",
       "    </tr>\n",
       "    <tr>\n",
       "      <th>49998</th>\n",
       "      <td>I'm going to have to disagree with the previou...</td>\n",
       "      <td>0</td>\n",
       "    </tr>\n",
       "    <tr>\n",
       "      <th>49999</th>\n",
       "      <td>No one expects the Star Trek movies to be high...</td>\n",
       "      <td>0</td>\n",
       "    </tr>\n",
       "  </tbody>\n",
       "</table>\n",
       "<p>50000 rows × 2 columns</p>\n",
       "</div>"
      ],
      "text/plain": [
       "                                                  review  sentiment\n",
       "0      One of the other reviewers has mentioned that ...          1\n",
       "1      A wonderful little production. <br /><br />The...          1\n",
       "2      I thought this was a wonderful way to spend ti...          1\n",
       "3      Basically there's a family where a little boy ...          0\n",
       "4      Petter Mattei's \"Love in the Time of Money\" is...          1\n",
       "...                                                  ...        ...\n",
       "49995  I thought this movie did a down right good job...          1\n",
       "49996  Bad plot, bad dialogue, bad acting, idiotic di...          0\n",
       "49997  I am a Catholic taught in parochial elementary...          0\n",
       "49998  I'm going to have to disagree with the previou...          0\n",
       "49999  No one expects the Star Trek movies to be high...          0\n",
       "\n",
       "[50000 rows x 2 columns]"
      ]
     },
     "execution_count": 12,
     "metadata": {},
     "output_type": "execute_result"
    }
   ],
   "source": [
    "df = pd.read_csv(CSV_dir)\n",
    "df"
   ]
  },
  {
   "cell_type": "markdown",
   "id": "6c2785c3",
   "metadata": {},
   "source": [
    "## Data Analysis"
   ]
  },
  {
   "cell_type": "code",
   "execution_count": 13,
   "id": "3ac2aa34",
   "metadata": {},
   "outputs": [
    {
     "name": "stdout",
     "output_type": "stream",
     "text": [
      "After the success of Die Hard and it's sequels it's no surprise really that in the 1990s, a glut of 'Die Hard on a .....' movies cashed in on the wrong guy, wrong place, wrong time concept. That is what they did with Cliffhanger, Die Hard on a mountain just in time to rescue Sly 'Stop or My Mom Will Shoot' Stallone's career.<br /><br />Cliffhanger is one big nit-pickers dream, especially to those who are expert at mountain climbing, base-jumping, aviation, facial expressions, acting skills. All in all it's full of excuses to dismiss the film as one overblown pile of junk. Stallone even managed to get out-acted by a horse! However, if you an forget all the nonsense, it's actually a very lovable and undeniably entertaining romp that delivers as plenty of thrills, and unintentionally, plenty of laughs.<br /><br />You've got to love John Lithgows sneery evilness, his tick every box band of baddies, and best of all, the permanently harassed and hapless 'turncoat' agent, Rex Linn as Travers.<br /><br />He may of been Henry in 'Portrait of a Serial Killer' but Michael Rooker is noteworthy for a cringe-worthy performance as Hal, he insists on constantly shrieking in painful disbelief at his captors 'that man never hurt anybody' And whilst he surely can't be, it really does look like Ralph Waite's Frank character is grinning as the girl plummets to her death.<br /><br />Mention too must go to former 'London's Burning' actor Craig Fairbrass as the Brit bad guy, who comes a cropper whilst using Hal as a Human Football, yes, you can't help enjoy that bit, Hal needed a good kicking.<br /><br />So forget your better judgement, who cares if 'that could never happen', lower your acting expectations, turn up the volume and enjoy! And if you're looking for Qaulen, he's the one wearing the helicopter.\n"
     ]
    }
   ],
   "source": [
    "print(df['review'][20])"
   ]
  },
  {
   "cell_type": "code",
   "execution_count": 14,
   "id": "f2bb2ae3",
   "metadata": {},
   "outputs": [
    {
     "name": "stdout",
     "output_type": "stream",
     "text": [
      "1\n"
     ]
    }
   ],
   "source": [
    "print(df['sentiment'][20])"
   ]
  },
  {
   "cell_type": "markdown",
   "id": "318aeb42",
   "metadata": {},
   "source": [
    "## Data Preprocessing"
   ]
  },
  {
   "cell_type": "markdown",
   "id": "7f4c19a0",
   "metadata": {},
   "source": [
    "#### Remove HTML Tags"
   ]
  },
  {
   "cell_type": "code",
   "execution_count": 15,
   "id": "1c1f8324",
   "metadata": {},
   "outputs": [],
   "source": [
    "def filter_html(row):\n",
    "    f = re.compile(r'<.*?>')\n",
    "    f = f.sub('', row['review'])\n",
    "    f = f.replace(\"\\'\", \"\")\n",
    "    return f"
   ]
  },
  {
   "cell_type": "code",
   "execution_count": 16,
   "id": "f1f4465a",
   "metadata": {},
   "outputs": [
    {
     "data": {
      "text/html": [
       "<div>\n",
       "<style scoped>\n",
       "    .dataframe tbody tr th:only-of-type {\n",
       "        vertical-align: middle;\n",
       "    }\n",
       "\n",
       "    .dataframe tbody tr th {\n",
       "        vertical-align: top;\n",
       "    }\n",
       "\n",
       "    .dataframe thead th {\n",
       "        text-align: right;\n",
       "    }\n",
       "</style>\n",
       "<table border=\"1\" class=\"dataframe\">\n",
       "  <thead>\n",
       "    <tr style=\"text-align: right;\">\n",
       "      <th></th>\n",
       "      <th>review</th>\n",
       "      <th>sentiment</th>\n",
       "    </tr>\n",
       "  </thead>\n",
       "  <tbody>\n",
       "    <tr>\n",
       "      <th>0</th>\n",
       "      <td>One of the other reviewers has mentioned that ...</td>\n",
       "      <td>1</td>\n",
       "    </tr>\n",
       "    <tr>\n",
       "      <th>1</th>\n",
       "      <td>A wonderful little production. The filming tec...</td>\n",
       "      <td>1</td>\n",
       "    </tr>\n",
       "    <tr>\n",
       "      <th>2</th>\n",
       "      <td>I thought this was a wonderful way to spend ti...</td>\n",
       "      <td>1</td>\n",
       "    </tr>\n",
       "    <tr>\n",
       "      <th>3</th>\n",
       "      <td>Basically theres a family where a little boy (...</td>\n",
       "      <td>0</td>\n",
       "    </tr>\n",
       "    <tr>\n",
       "      <th>4</th>\n",
       "      <td>Petter Matteis \"Love in the Time of Money\" is ...</td>\n",
       "      <td>1</td>\n",
       "    </tr>\n",
       "    <tr>\n",
       "      <th>...</th>\n",
       "      <td>...</td>\n",
       "      <td>...</td>\n",
       "    </tr>\n",
       "    <tr>\n",
       "      <th>49995</th>\n",
       "      <td>I thought this movie did a down right good job...</td>\n",
       "      <td>1</td>\n",
       "    </tr>\n",
       "    <tr>\n",
       "      <th>49996</th>\n",
       "      <td>Bad plot, bad dialogue, bad acting, idiotic di...</td>\n",
       "      <td>0</td>\n",
       "    </tr>\n",
       "    <tr>\n",
       "      <th>49997</th>\n",
       "      <td>I am a Catholic taught in parochial elementary...</td>\n",
       "      <td>0</td>\n",
       "    </tr>\n",
       "    <tr>\n",
       "      <th>49998</th>\n",
       "      <td>Im going to have to disagree with the previous...</td>\n",
       "      <td>0</td>\n",
       "    </tr>\n",
       "    <tr>\n",
       "      <th>49999</th>\n",
       "      <td>No one expects the Star Trek movies to be high...</td>\n",
       "      <td>0</td>\n",
       "    </tr>\n",
       "  </tbody>\n",
       "</table>\n",
       "<p>50000 rows × 2 columns</p>\n",
       "</div>"
      ],
      "text/plain": [
       "                                                  review  sentiment\n",
       "0      One of the other reviewers has mentioned that ...          1\n",
       "1      A wonderful little production. The filming tec...          1\n",
       "2      I thought this was a wonderful way to spend ti...          1\n",
       "3      Basically theres a family where a little boy (...          0\n",
       "4      Petter Matteis \"Love in the Time of Money\" is ...          1\n",
       "...                                                  ...        ...\n",
       "49995  I thought this movie did a down right good job...          1\n",
       "49996  Bad plot, bad dialogue, bad acting, idiotic di...          0\n",
       "49997  I am a Catholic taught in parochial elementary...          0\n",
       "49998  Im going to have to disagree with the previous...          0\n",
       "49999  No one expects the Star Trek movies to be high...          0\n",
       "\n",
       "[50000 rows x 2 columns]"
      ]
     },
     "execution_count": 16,
     "metadata": {},
     "output_type": "execute_result"
    }
   ],
   "source": [
    "df['review'] = df.apply(filter_html, axis=1)\n",
    "df"
   ]
  },
  {
   "cell_type": "code",
   "execution_count": 17,
   "id": "af99cb80",
   "metadata": {},
   "outputs": [
    {
     "name": "stdout",
     "output_type": "stream",
     "text": [
      "One of the other reviewers has mentioned that after watching just 1 Oz episode youll be hooked. They are right, as this is exactly what happened with me.The first thing that struck me about Oz was its brutality and unflinching scenes of violence, which set in right from the word GO. Trust me, this is not a show for the faint hearted or timid. This show pulls no punches with regards to drugs, sex or violence. Its is hardcore, in the classic use of the word.It is called OZ as that is the nickname given to the Oswald Maximum Security State Penitentary. It focuses mainly on Emerald City, an experimental section of the prison where all the cells have glass fronts and face inwards, so privacy is not high on the agenda. Em City is home to many..Aryans, Muslims, gangstas, Latinos, Christians, Italians, Irish and more....so scuffles, death stares, dodgy dealings and shady agreements are never far away.I would say the main appeal of the show is due to the fact that it goes where other shows wouldnt dare. Forget pretty pictures painted for mainstream audiences, forget charm, forget romance...OZ doesnt mess around. The first episode I ever saw struck me as so nasty it was surreal, I couldnt say I was ready for it, but as I watched more, I developed a taste for Oz, and got accustomed to the high levels of graphic violence. Not just violence, but injustice (crooked guards wholl be sold out for a nickel, inmates wholl kill on order and get away with it, well mannered, middle class inmates being turned into prison bitches due to their lack of street skills or prison experience) Watching Oz, you may become comfortable with what is uncomfortable viewing....thats if you can get in touch with your darker side.\n"
     ]
    }
   ],
   "source": [
    "print(df['review'][0])"
   ]
  },
  {
   "cell_type": "markdown",
   "id": "759e1cee",
   "metadata": {},
   "source": [
    "#### Train Test Split "
   ]
  },
  {
   "cell_type": "code",
   "execution_count": 18,
   "id": "7dc30b6c",
   "metadata": {},
   "outputs": [],
   "source": [
    "X_train, X_test, y_train, y_test = train_test_split(\n",
    "    df['review'], df['sentiment'], test_size=0.30, random_state=42\n",
    ")"
   ]
  },
  {
   "cell_type": "code",
   "execution_count": 19,
   "id": "6525d6a0",
   "metadata": {},
   "outputs": [
    {
     "data": {
      "text/plain": [
       "38094    As much as I love trains, I couldnt stomach th...\n",
       "40624    This was a very good PPV, but like Wrestlemani...\n",
       "49425    Not finding the right words is everybodys prob...\n",
       "35734    Im really suprised this movie didnt get a high...\n",
       "41708    Ill start by confessing that I tend to really ...\n",
       "Name: review, dtype: object"
      ]
     },
     "execution_count": 19,
     "metadata": {},
     "output_type": "execute_result"
    }
   ],
   "source": [
    "X_train.head()"
   ]
  },
  {
   "cell_type": "markdown",
   "id": "d9f64e59",
   "metadata": {},
   "source": [
    "#### Convert to numpy array"
   ]
  },
  {
   "cell_type": "code",
   "execution_count": 20,
   "id": "ba09699d",
   "metadata": {},
   "outputs": [],
   "source": [
    "X_train_n = X_train.to_numpy()"
   ]
  },
  {
   "cell_type": "code",
   "execution_count": 21,
   "id": "3b16b7a5",
   "metadata": {},
   "outputs": [
    {
     "data": {
      "text/plain": [
       "array(['As much as I love trains, I couldnt stomach this movie. The premise that one could steal a locomotive and \"drive\" from Arkansas to Chicago without hitting another train along the way has to be right up there on the Impossible Plot lines hit board. Imagine two disgruntled NASA employees stealing the \"crawler\" that totes the shuttles to and fro and driving it to New York and you get the idea.Having said all that, its a nice try. Wilford Brimely is at his Quaker Oats best, and Levon Helm turns a good performance as his dimwitted but well-meaning sidekick. Bob Balaban is suitably wormy as the Corporate Guy, and the \"little guy takes on Goliath\" story gets another airing.',\n",
       "       'This was a very good PPV, but like Wrestlemania XX some 14 years later, the WWE crammed so many matches on it, some of the matches were useless. Im not going to go through every match on the card because it would take forever to do.However major highlights included the HUGE pop for Demolition winning the tag team belts from Haku and Andre the Giant, The first ever mixed tag match featuring Randy Savage and Sensational Queen Sherri vs Dusty Rhodes and the late Sapphire and the first ever clash between The Ultimate Warrior and Hulk Hogan.Some matches were a complete waste of time. Like The Bolsheviks vs The Hart Foundation was only about 40 seconds long, Koko B Ware vs Rick Martel was short and Big Bossman vs Akeem was too short.Mr Perfect vs Brutus Beefcake and Ted DiBiase vs Jake the snake Roberts were very good indeed.Overall Grade - B',\n",
       "       'Not finding the right words is everybodys problem in this vaudeville-type urban comedy. They dont know what to say, and they dont know how to say it, which is why they embark on the potentially humiliating enterprise of pre-arranged speed dating. Unfortunately, they all come across as cardboard characters rather than real people. The story follows a conventional three-act structure: getting to know the sizable cast in their sorry single lives, the actual dating circuit, and a final stretch of romantic fallout, showcasing some of the new-found couples follies. Because its all so predictable, Id say that as a narrative, \"Shoppen\" is a failure. As a comedy, most of the time its too goofy to be really funny. Thumbs up to Kathrin von Steinburg. She stands out from the soap opera crowd as the aloof, independently wealthy Miriam. Great makeup on her too (Verena Weißert): Heavy eye shadow meets skin-tone lip gloss, creating a brooding and bohemian, yet girlish effect. Thumbs up also to Stefan Zinner as the Bavarian love machine and Tanja Schleiff as the hot nutritionist. They bypass the communication challenge by way of the timeless body language of copulation.',\n",
       "       ...,\n",
       "       'Avoid this one! It is a terrible movie. So what if it is very exciting? All it is is just pointless murders. And the whole thing with Thorn and Michaels curse, that was the absolute worst thing they could possibly do to the series! Why couldnt they leave Michaels story a mystery? Hes supposed to be the Boogeyman, not part of some stupid cult!! Ugh! Thank God for Halloween H20, which wiped out Halloween 3-6! They all sucked! But anyway, if you see this movie, please expect no more than pointless murders and gore.',\n",
       "       'This production was quite a surprise for me. I absolutely love obscure early 30s movies, but I wasnt prepared for the last 25 minutes of this story. If, by any chance, youre not convinced in the first half, hang in there for the finale. Of course, you must look at the blatant racism as being purely topical. A fascinating viewing experience, but I think THE CATS PAW is not available on video/DVD yet. Watch your PBS listings!',\n",
       "       'This is a decent movie. Although little bit short in time for me, it packs a lot of action, grit, commonsense and emotions in that time frame. Matt Dillon and the other main character does a great job in this movie. The emotions and intensity were convincing and tense throughout the movie. It is not typical fancy expensive Hollywood CGI action movie, but it was a very satisfying movie indeed for the price. My evening was great because of this movie. This movie is straight traditional action movie with great acting, story and directing. I would recommend this movie. The character development of the characters were good and makes you believe that were are actually seeing a real event taking place. Because this movie I believe was made with cheaper budget, the acting and quality were much higher.'],\n",
       "      dtype=object)"
      ]
     },
     "execution_count": 21,
     "metadata": {},
     "output_type": "execute_result"
    }
   ],
   "source": [
    "X_train_n"
   ]
  },
  {
   "cell_type": "code",
   "execution_count": 22,
   "id": "579f367b",
   "metadata": {},
   "outputs": [],
   "source": [
    "X_test_n = X_test.to_numpy()\n",
    "y_train_n = y_train.to_numpy()\n",
    "y_test_n = y_test.to_numpy()"
   ]
  },
  {
   "cell_type": "markdown",
   "id": "8f5edce6",
   "metadata": {},
   "source": [
    "#### Text Vectorization "
   ]
  },
  {
   "cell_type": "code",
   "execution_count": 61,
   "id": "5e7b6ff1",
   "metadata": {},
   "outputs": [],
   "source": [
    "MAX_FEATURES = 10000\n",
    "MAX_LEN = 200\n",
    "EMBEDDING_DIMS = 2"
   ]
  },
  {
   "cell_type": "code",
   "execution_count": 62,
   "id": "39f08779",
   "metadata": {},
   "outputs": [
    {
     "data": {
      "text/plain": [
       "<tensorflow.python.keras.layers.preprocessing.text_vectorization.TextVectorization at 0x7f64002763c8>"
      ]
     },
     "execution_count": 62,
     "metadata": {},
     "output_type": "execute_result"
    }
   ],
   "source": [
    "vectorize_layer = TextVectorization(\n",
    "    max_tokens = MAX_FEATURES,\n",
    "    output_mode = 'int',\n",
    "    output_sequence_length = MAX_LEN,\n",
    ")\n",
    "vectorize_layer"
   ]
  },
  {
   "cell_type": "code",
   "execution_count": 63,
   "id": "49460494",
   "metadata": {},
   "outputs": [],
   "source": [
    "vectorize_layer.adapt(X_train_n)"
   ]
  },
  {
   "cell_type": "markdown",
   "id": "faf67641",
   "metadata": {},
   "source": [
    "#### Embedding "
   ]
  },
  {
   "cell_type": "code",
   "execution_count": 64,
   "id": "dd78b927",
   "metadata": {},
   "outputs": [],
   "source": [
    "embedding_layer = Embedding(\n",
    "    MAX_FEATURES,\n",
    "    32,\n",
    "    input_length=MAX_LEN,\n",
    ")"
   ]
  },
  {
   "cell_type": "code",
   "execution_count": 81,
   "id": "b306ff9e",
   "metadata": {},
   "outputs": [],
   "source": [
    "model = tf.keras.models.Sequential([\n",
    "    tf.keras.Input(shape=(1,),dtype=tf.string),\n",
    "    vectorize_layer,\n",
    "    embedding_layer,\n",
    "    layers.Flatten(),\n",
    "#     layers.Dense(1, activation='sigmoid')\n",
    "])"
   ]
  },
  {
   "cell_type": "code",
   "execution_count": 82,
   "id": "b8ca5d91",
   "metadata": {},
   "outputs": [],
   "source": [
    "# model = tf.keras.models.Sequential()\n",
    "# model.add(tf.keras.Input(shape=(1,), dtype=tf.string))\n",
    "# model.add(vectorize_layer)"
   ]
  },
  {
   "cell_type": "code",
   "execution_count": 83,
   "id": "08fe844e",
   "metadata": {},
   "outputs": [
    {
     "name": "stdout",
     "output_type": "stream",
     "text": [
      "Model: \"sequential_4\"\n",
      "_________________________________________________________________\n",
      "Layer (type)                 Output Shape              Param #   \n",
      "=================================================================\n",
      "text_vectorization_2 (TextVe (None, 200)               0         \n",
      "_________________________________________________________________\n",
      "embedding_2 (Embedding)      (None, 200, 32)           320000    \n",
      "_________________________________________________________________\n",
      "flatten (Flatten)            (None, 6400)              0         \n",
      "=================================================================\n",
      "Total params: 320,000\n",
      "Trainable params: 320,000\n",
      "Non-trainable params: 0\n",
      "_________________________________________________________________\n"
     ]
    }
   ],
   "source": [
    "model.summary()"
   ]
  },
  {
   "cell_type": "code",
   "execution_count": 84,
   "id": "607f5ac3",
   "metadata": {},
   "outputs": [],
   "source": [
    "processed_X = model.predict(X_test_n)"
   ]
  },
  {
   "cell_type": "code",
   "execution_count": 85,
   "id": "166eb559",
   "metadata": {},
   "outputs": [
    {
     "data": {
      "text/plain": [
       "(15000, 6400)"
      ]
     },
     "execution_count": 85,
     "metadata": {},
     "output_type": "execute_result"
    }
   ],
   "source": [
    "processed_X.shape"
   ]
  },
  {
   "cell_type": "code",
   "execution_count": 86,
   "id": "73264a50",
   "metadata": {},
   "outputs": [
    {
     "data": {
      "text/plain": [
       "array([ 0.03715139, -0.03951082,  0.04351897, ..., -0.01247861,\n",
       "        0.03959943,  0.02102547], dtype=float32)"
      ]
     },
     "execution_count": 86,
     "metadata": {},
     "output_type": "execute_result"
    }
   ],
   "source": [
    "processed_X[0]"
   ]
  },
  {
   "cell_type": "markdown",
   "id": "6b6b802a",
   "metadata": {},
   "source": [
    "## Data Analysis "
   ]
  },
  {
   "cell_type": "code",
   "execution_count": 87,
   "id": "628a5f83",
   "metadata": {},
   "outputs": [
    {
     "data": {
      "text/html": [
       "<div>\n",
       "<style scoped>\n",
       "    .dataframe tbody tr th:only-of-type {\n",
       "        vertical-align: middle;\n",
       "    }\n",
       "\n",
       "    .dataframe tbody tr th {\n",
       "        vertical-align: top;\n",
       "    }\n",
       "\n",
       "    .dataframe thead th {\n",
       "        text-align: right;\n",
       "    }\n",
       "</style>\n",
       "<table border=\"1\" class=\"dataframe\">\n",
       "  <thead>\n",
       "    <tr style=\"text-align: right;\">\n",
       "      <th></th>\n",
       "      <th>0</th>\n",
       "      <th>1</th>\n",
       "      <th>2</th>\n",
       "      <th>3</th>\n",
       "      <th>4</th>\n",
       "      <th>5</th>\n",
       "      <th>6</th>\n",
       "      <th>7</th>\n",
       "      <th>8</th>\n",
       "      <th>9</th>\n",
       "      <th>...</th>\n",
       "      <th>6390</th>\n",
       "      <th>6391</th>\n",
       "      <th>6392</th>\n",
       "      <th>6393</th>\n",
       "      <th>6394</th>\n",
       "      <th>6395</th>\n",
       "      <th>6396</th>\n",
       "      <th>6397</th>\n",
       "      <th>6398</th>\n",
       "      <th>6399</th>\n",
       "    </tr>\n",
       "  </thead>\n",
       "  <tbody>\n",
       "    <tr>\n",
       "      <th>0</th>\n",
       "      <td>0.037151</td>\n",
       "      <td>-0.039511</td>\n",
       "      <td>0.043519</td>\n",
       "      <td>-0.012676</td>\n",
       "      <td>-0.049001</td>\n",
       "      <td>0.048414</td>\n",
       "      <td>-0.027672</td>\n",
       "      <td>-0.023931</td>\n",
       "      <td>0.027512</td>\n",
       "      <td>-0.047284</td>\n",
       "      <td>...</td>\n",
       "      <td>0.020752</td>\n",
       "      <td>0.011692</td>\n",
       "      <td>0.042319</td>\n",
       "      <td>-0.013472</td>\n",
       "      <td>0.011908</td>\n",
       "      <td>-0.004481</td>\n",
       "      <td>0.029991</td>\n",
       "      <td>-0.012479</td>\n",
       "      <td>0.039599</td>\n",
       "      <td>0.021025</td>\n",
       "    </tr>\n",
       "    <tr>\n",
       "      <th>1</th>\n",
       "      <td>-0.042028</td>\n",
       "      <td>-0.020603</td>\n",
       "      <td>-0.014280</td>\n",
       "      <td>-0.004191</td>\n",
       "      <td>-0.001042</td>\n",
       "      <td>0.017406</td>\n",
       "      <td>-0.045665</td>\n",
       "      <td>0.016261</td>\n",
       "      <td>-0.027302</td>\n",
       "      <td>0.041986</td>\n",
       "      <td>...</td>\n",
       "      <td>0.031065</td>\n",
       "      <td>0.032290</td>\n",
       "      <td>0.028777</td>\n",
       "      <td>0.037715</td>\n",
       "      <td>0.030861</td>\n",
       "      <td>0.022790</td>\n",
       "      <td>0.011520</td>\n",
       "      <td>-0.003613</td>\n",
       "      <td>0.035320</td>\n",
       "      <td>-0.001542</td>\n",
       "    </tr>\n",
       "    <tr>\n",
       "      <th>2</th>\n",
       "      <td>-0.044107</td>\n",
       "      <td>0.032542</td>\n",
       "      <td>0.042482</td>\n",
       "      <td>-0.028165</td>\n",
       "      <td>0.032288</td>\n",
       "      <td>0.027521</td>\n",
       "      <td>0.049152</td>\n",
       "      <td>0.039995</td>\n",
       "      <td>0.048789</td>\n",
       "      <td>-0.011609</td>\n",
       "      <td>...</td>\n",
       "      <td>0.000816</td>\n",
       "      <td>-0.036514</td>\n",
       "      <td>0.001668</td>\n",
       "      <td>0.022847</td>\n",
       "      <td>0.022369</td>\n",
       "      <td>0.015303</td>\n",
       "      <td>-0.040903</td>\n",
       "      <td>0.023043</td>\n",
       "      <td>-0.034420</td>\n",
       "      <td>-0.029275</td>\n",
       "    </tr>\n",
       "    <tr>\n",
       "      <th>3</th>\n",
       "      <td>0.004317</td>\n",
       "      <td>-0.022330</td>\n",
       "      <td>0.003580</td>\n",
       "      <td>0.025369</td>\n",
       "      <td>-0.023975</td>\n",
       "      <td>-0.001051</td>\n",
       "      <td>0.025758</td>\n",
       "      <td>0.016449</td>\n",
       "      <td>-0.022952</td>\n",
       "      <td>-0.042192</td>\n",
       "      <td>...</td>\n",
       "      <td>0.000816</td>\n",
       "      <td>-0.036514</td>\n",
       "      <td>0.001668</td>\n",
       "      <td>0.022847</td>\n",
       "      <td>0.022369</td>\n",
       "      <td>0.015303</td>\n",
       "      <td>-0.040903</td>\n",
       "      <td>0.023043</td>\n",
       "      <td>-0.034420</td>\n",
       "      <td>-0.029275</td>\n",
       "    </tr>\n",
       "    <tr>\n",
       "      <th>4</th>\n",
       "      <td>-0.002559</td>\n",
       "      <td>0.019066</td>\n",
       "      <td>0.038694</td>\n",
       "      <td>0.007921</td>\n",
       "      <td>-0.025409</td>\n",
       "      <td>-0.022586</td>\n",
       "      <td>-0.043493</td>\n",
       "      <td>-0.037645</td>\n",
       "      <td>0.045353</td>\n",
       "      <td>0.017482</td>\n",
       "      <td>...</td>\n",
       "      <td>-0.040848</td>\n",
       "      <td>0.036653</td>\n",
       "      <td>-0.031116</td>\n",
       "      <td>0.002187</td>\n",
       "      <td>-0.049533</td>\n",
       "      <td>0.015519</td>\n",
       "      <td>-0.038246</td>\n",
       "      <td>-0.040085</td>\n",
       "      <td>0.031107</td>\n",
       "      <td>0.041450</td>\n",
       "    </tr>\n",
       "  </tbody>\n",
       "</table>\n",
       "<p>5 rows × 6400 columns</p>\n",
       "</div>"
      ],
      "text/plain": [
       "       0         1         2         3         4         5         6     \\\n",
       "0  0.037151 -0.039511  0.043519 -0.012676 -0.049001  0.048414 -0.027672   \n",
       "1 -0.042028 -0.020603 -0.014280 -0.004191 -0.001042  0.017406 -0.045665   \n",
       "2 -0.044107  0.032542  0.042482 -0.028165  0.032288  0.027521  0.049152   \n",
       "3  0.004317 -0.022330  0.003580  0.025369 -0.023975 -0.001051  0.025758   \n",
       "4 -0.002559  0.019066  0.038694  0.007921 -0.025409 -0.022586 -0.043493   \n",
       "\n",
       "       7         8         9     ...      6390      6391      6392      6393  \\\n",
       "0 -0.023931  0.027512 -0.047284  ...  0.020752  0.011692  0.042319 -0.013472   \n",
       "1  0.016261 -0.027302  0.041986  ...  0.031065  0.032290  0.028777  0.037715   \n",
       "2  0.039995  0.048789 -0.011609  ...  0.000816 -0.036514  0.001668  0.022847   \n",
       "3  0.016449 -0.022952 -0.042192  ...  0.000816 -0.036514  0.001668  0.022847   \n",
       "4 -0.037645  0.045353  0.017482  ... -0.040848  0.036653 -0.031116  0.002187   \n",
       "\n",
       "       6394      6395      6396      6397      6398      6399  \n",
       "0  0.011908 -0.004481  0.029991 -0.012479  0.039599  0.021025  \n",
       "1  0.030861  0.022790  0.011520 -0.003613  0.035320 -0.001542  \n",
       "2  0.022369  0.015303 -0.040903  0.023043 -0.034420 -0.029275  \n",
       "3  0.022369  0.015303 -0.040903  0.023043 -0.034420 -0.029275  \n",
       "4 -0.049533  0.015519 -0.038246 -0.040085  0.031107  0.041450  \n",
       "\n",
       "[5 rows x 6400 columns]"
      ]
     },
     "execution_count": 87,
     "metadata": {},
     "output_type": "execute_result"
    }
   ],
   "source": [
    "processed_X_df = pd.DataFrame(processed_X)\n",
    "processed_X_df.head()"
   ]
  },
  {
   "cell_type": "code",
   "execution_count": 88,
   "id": "0c73796d",
   "metadata": {},
   "outputs": [],
   "source": [
    "nonzeros = processed_X_df.astype(bool).sum(axis=1)"
   ]
  },
  {
   "cell_type": "code",
   "execution_count": 89,
   "id": "0265938a",
   "metadata": {},
   "outputs": [
    {
     "data": {
      "text/plain": [
       "6400.0"
      ]
     },
     "execution_count": 89,
     "metadata": {},
     "output_type": "execute_result"
    }
   ],
   "source": [
    "nonzeros.mean()"
   ]
  },
  {
   "cell_type": "code",
   "execution_count": null,
   "id": "55f10cfc",
   "metadata": {},
   "outputs": [],
   "source": []
  }
 ],
 "metadata": {
  "kernelspec": {
   "display_name": "Python 3",
   "language": "python",
   "name": "python3"
  },
  "language_info": {
   "codemirror_mode": {
    "name": "ipython",
    "version": 3
   },
   "file_extension": ".py",
   "mimetype": "text/x-python",
   "name": "python",
   "nbconvert_exporter": "python",
   "pygments_lexer": "ipython3",
   "version": "3.6.9"
  }
 },
 "nbformat": 4,
 "nbformat_minor": 5
}
